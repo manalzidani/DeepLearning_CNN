{
  "nbformat": 4,
  "nbformat_minor": 0,
  "metadata": {
    "kernelspec": {
      "display_name": "Python 3",
      "language": "python",
      "name": "python3"
    },
    "language_info": {
      "codemirror_mode": {
        "name": "ipython",
        "version": 3
      },
      "file_extension": ".py",
      "mimetype": "text/x-python",
      "name": "python",
      "nbconvert_exporter": "python",
      "pygments_lexer": "ipython3",
      "version": "3.7.9"
    },
    "colab": {
      "name": "DeepLearning_CNN",
      "provenance": [],
      "collapsed_sections": []
    },
    "accelerator": "GPU"
  },
  "cells": [
    {
      "cell_type": "markdown",
      "metadata": {
        "id": "7PKVAcrTVdcb"
      },
      "source": [
        "# Coding Convolutional Neural Networks in tensorflow/keras\n",
        "\n",
        "\n",
        "## Objective:\n",
        "\n",
        "We want to implement a Convolutional Neural Network (CNN) to do image classification. For this we will use two well-known image datasets :\n",
        "\n",
        "###MNIST\n",
        "\n",
        "Mnist is a dataset of 60,000 28$\\times$28 greyscale images of handwritten digits.\n",
        "\n",
        "### CIFAR 10\n",
        "\n",
        "\n",
        "The CIFAR-10 dataset consists of 60000 32x32 colour images in 10 classes, with 6000 images per class. There are 50000 training images and 10000 test images.\n"
      ]
    },
    {
      "cell_type": "markdown",
      "metadata": {
        "id": "mIMQxnyAVdcb"
      },
      "source": [
        "# Load packages"
      ]
    },
    {
      "cell_type": "code",
      "metadata": {
        "id": "4r-L5nzGVdcc",
        "colab": {
          "base_uri": "https://localhost:8080/"
        },
        "outputId": "f9ed7389-2d82-4dc2-b6b1-c7c37c2255dd"
      },
      "source": [
        "%matplotlib inline\n",
        "import matplotlib.pyplot as plt\n",
        "import numpy as np\n",
        "\n",
        "import tensorflow as tf\n",
        "from tensorflow.keras.utils import to_categorical\n",
        "\n",
        "from tensorflow.keras.models import Sequential, Model\n",
        "from tensorflow.keras.layers import Dense, Dropout, Activation, Flatten, Input\n",
        "from tensorflow.keras.layers import Conv2D, MaxPooling2D\n",
        "from tensorflow.keras import optimizers\n",
        "print(tf.keras.__version__)\n"
      ],
      "execution_count": 1,
      "outputs": [
        {
          "output_type": "stream",
          "text": [
            "2.5.0\n"
          ],
          "name": "stdout"
        }
      ]
    },
    {
      "cell_type": "markdown",
      "metadata": {
        "id": "BPkKAA3NVdcf"
      },
      "source": [
        "## Import data\n",
        "\n",
        "We are going to start with the mnist dataset. The mnist dataset has 10 classes which go from \"0\" to \"9\" (all the digits). We are going to truncate the number of elements in the database for faster training.\n"
      ]
    },
    {
      "cell_type": "code",
      "metadata": {
        "id": "pdsR8TgupAmR",
        "colab": {
          "base_uri": "https://localhost:8080/"
        },
        "outputId": "ee92a984-68ee-42de-d1e4-206342a84310"
      },
      "source": [
        "\n",
        "from keras.datasets import mnist\n",
        "(X_train, Y_train_scalar), (X_test, Y_test_scalar) = mnist.load_data()\n",
        "\n",
        "n_max = 5000\n",
        "X_train = X_train[0:n_max,:,:]\n",
        "X_test = X_test[0:n_max,:,:]\n",
        "Y_train_scalar = Y_train_scalar[0:n_max]\n",
        "Y_test_scalar = Y_test_scalar[0:n_max]\n",
        "\n",
        "mnist_label_list = [ '0', '1','2','3','4','5','6','7','8','9']\n",
        "\n",
        "print(X_train.shape)\n",
        "print(X_test.shape)\n",
        "print(np.unique(Y_train_scalar))"
      ],
      "execution_count": 2,
      "outputs": [
        {
          "output_type": "stream",
          "text": [
            "Downloading data from https://storage.googleapis.com/tensorflow/tf-keras-datasets/mnist.npz\n",
            "11493376/11490434 [==============================] - 0s 0us/step\n",
            "11501568/11490434 [==============================] - 0s 0us/step\n",
            "(5000, 28, 28)\n",
            "(5000, 28, 28)\n",
            "[0 1 2 3 4 5 6 7 8 9]\n"
          ],
          "name": "stdout"
        }
      ]
    },
    {
      "cell_type": "markdown",
      "metadata": {
        "id": "L7pZ6hCQp41Y"
      },
      "source": [
        "Now, let's look at some of the data :"
      ]
    },
    {
      "cell_type": "code",
      "metadata": {
        "id": "_fe0vyM0pYe7",
        "colab": {
          "base_uri": "https://localhost:8080/",
          "height": 338
        },
        "outputId": "7a9318b2-0f37-4f84-ea44-ec1b97fa053d"
      },
      "source": [
        "plt.figure(figsize=(10, 6))\n",
        "for idx in range(0,10):\n",
        "    plt.subplot(2, 5, idx+1)\n",
        "    rand_ind = np.random.randint(0,X_train.shape[0])\n",
        "    plt.imshow(X_test[rand_ind,:,:],cmap='gray')\n",
        "    plt.title(mnist_label_list[int(Y_test_scalar[rand_ind])])\n"
      ],
      "execution_count": 3,
      "outputs": [
        {
          "output_type": "display_data",
          "data": {
            "image/png": "[encoded data removed]",
            "text/plain": [
              "<Figure size 720x432 with 10 Axes>"
            ]
          },
          "metadata": {
            "tags": [],
            "needs_background": "light"
          }
        }
      ]
    },
    {
      "cell_type": "markdown",
      "metadata": {
        "id": "NRIydd6-qOVR"
      },
      "source": [
        "Now, we carry out some data pre-processing. In particular, we normalise the data to the range $[0,1]$ and convert the labels to a one-hot encoding :"
      ]
    },
    {
      "cell_type": "code",
      "metadata": {
        "id": "112VYdfgrHDl",
        "colab": {
          "base_uri": "https://localhost:8080/"
        },
        "outputId": "c75eee1b-80af-4bad-d35f-2b755ad50acf"
      },
      "source": [
        "# input image dimensions (mnist data is grey-level)\n",
        "img_rows, img_cols, nb_channels = X_train.shape[1], X_train.shape[2], 1\n",
        "\n",
        "# In case depth is 1 (black and white pictures) -> reshape to proper format\n",
        "X_train = X_train.reshape(X_train.shape[0], img_rows, img_cols, nb_channels)\n",
        "X_test = X_test.reshape(X_test.shape[0], img_rows, img_cols, nb_channels)\n",
        "\n",
        "X_train = X_train.astype('float32')\n",
        "X_test = X_test.astype('float32')\n",
        "X_train /= 255\n",
        "X_test /= 255\n",
        "\n",
        "Y_train = to_categorical(Y_train_scalar)\n",
        "Y_test = to_categorical(Y_test_scalar)\n",
        "\n",
        "# number of classes\n",
        "nb_classes = Y_train.shape[1]\n",
        "\n",
        "print('X_train shape:', X_train.shape)\n",
        "#print('y_train shape:', y_train.shape)\n",
        "print('Y_train shape:', Y_train.shape)\n",
        "print('There are {} train data'.format(X_train.shape[0]))\n",
        "print('There are {} test data'.format(X_test.shape[0]))\n",
        "print(img_rows, img_cols, nb_channels)\n"
      ],
      "execution_count": 4,
      "outputs": [
        {
          "output_type": "stream",
          "text": [
            "X_train shape: (5000, 28, 28, 1)\n",
            "Y_train shape: (5000, 10)\n",
            "There are 5000 train data\n",
            "There are 5000 test data\n",
            "28 28 1\n"
          ],
          "name": "stdout"
        }
      ]
    },
    {
      "cell_type": "markdown",
      "metadata": {
        "id": "slZYGH1ysFwj"
      },
      "source": [
        "## Defining the model for MNIST\n",
        "\n",
        "We will now define the simple CNN described below, for use with MNIST. The input of the CNN is a set of (28,28,1) image tensors. We apply :\n",
        "\n",
        "    - a Convolutional layer of 32 filters of shape (3,3), with stride (1,1) and padding='same'\n",
        "    - a ReLu activation function\n",
        "    \n",
        "    - a Convolutional layer of 32 filters of shape (3,3), with stride (1,1) and padding='same'\n",
        "    - a ReLu activation function\n",
        "    - a Max Pooling Layer of shape (2,2) and stride (2,2)\n",
        "    \n",
        "    - We then Flatten the data \n",
        "    - A softmax activation function which outputs are the $P(y_c | X)$ (multi-class problem)\n",
        "\n",
        "We define the parameters of the model :"
      ]
    },
    {
      "cell_type": "code",
      "metadata": {
        "id": "J1MPFemUrDg4"
      },
      "source": [
        "learning_rate = 0.01\n",
        "n_epochs = 10\n",
        "batch_size = 64\n",
        "\n",
        "# number of convolutional filters to use\n",
        "nb_filters = 32\n",
        "# convolution kernel size\n",
        "kernel_size = (3, 3)\n",
        "# size of pooling area for max pooling\n",
        "pool_size = (2, 2)\n",
        "\n",
        "# --- Size of the successive layers\n",
        "n_h_0 = nb_channels  # number of input channels\n",
        "n_h_1 = nb_filters\n",
        "n_h_2 = nb_filters"
      ],
      "execution_count": 5,
      "outputs": []
    },
    {
      "cell_type": "markdown",
      "metadata": {
        "id": "bvMx580MsAFF"
      },
      "source": [
        "## Creating the CNN model using the Sequential API\n",
        "\n"
      ]
    },
    {
      "cell_type": "code",
      "metadata": {
        "id": "nzWrY8nrsx62"
      },
      "source": [
        "\n",
        "\n",
        "model = Sequential()\n",
        "model.add(Conv2D(nb_filters, kernel_size,padding='same',strides=(1,1) ,input_shape=(28,28,1), name='Conv1'))\n",
        "model.add(Activation('relu'))\n",
        "model.add(Conv2D(nb_filters, kernel_size,padding='same',strides=(1,1),input_shape=(28,28,1), name='Conv2'))\n",
        "model.add(Activation('relu'))\n",
        "model.add(MaxPooling2D(pool_size=pool_size,strides=(2,2)))\n",
        "model.add(Flatten())\n",
        "model.add(Dense(10,activation='softmax'))"
      ],
      "execution_count": 6,
      "outputs": []
    },
    {
      "cell_type": "code",
      "metadata": {
        "id": "q61ACIG2thbI",
        "colab": {
          "base_uri": "https://localhost:8080/"
        },
        "outputId": "ce9cb6b0-e024-471c-caab-848f72887016"
      },
      "source": [
        "# We compile, train and evaluate the model\n",
        "\n",
        "\n",
        "# compile model\n",
        "model.compile(optimizer='adam',loss='categorical_crossentropy',metrics=['accuracy']) \n",
        "# display model\n",
        "model.summary()\n",
        "# fit model\n",
        "model.fit(X_train, Y_train,batch_size=batch_size,epochs=n_epochs, validation_data=(X_test,Y_test))       \n",
        "\n",
        "score = model.evaluate(X_test, Y_test, verbose=False)\n",
        "print('Test loss:', score[0])\n",
        "print('Test accuracy:', score[1])"
      ],
      "execution_count": 7,
      "outputs": [
        {
          "output_type": "stream",
          "text": [
            "Model: \"sequential\"\n",
            "_________________________________________________________________\n",
            "Layer (type)                 Output Shape              Param #   \n",
            "=================================================================\n",
            "Conv1 (Conv2D)               (None, 28, 28, 32)        320       \n",
            "_________________________________________________________________\n",
            "activation (Activation)      (None, 28, 28, 32)        0         \n",
            "_________________________________________________________________\n",
            "Conv2 (Conv2D)               (None, 28, 28, 32)        9248      \n",
            "_________________________________________________________________\n",
            "activation_1 (Activation)    (None, 28, 28, 32)        0         \n",
            "_________________________________________________________________\n",
            "max_pooling2d (MaxPooling2D) (None, 14, 14, 32)        0         \n",
            "_________________________________________________________________\n",
            "flatten (Flatten)            (None, 6272)              0         \n",
            "_________________________________________________________________\n",
            "dense (Dense)                (None, 10)                62730     \n",
            "=================================================================\n",
            "Total params: 72,298\n",
            "Trainable params: 72,298\n",
            "Non-trainable params: 0\n",
            "_________________________________________________________________\n",
            "Epoch 1/10\n",
            "79/79 [==============================] - 30s 15ms/step - loss: 0.7685 - accuracy: 0.7802 - val_loss: 0.4515 - val_accuracy: 0.8620\n",
            "Epoch 2/10\n",
            "79/79 [==============================] - 1s 12ms/step - loss: 0.2613 - accuracy: 0.9218 - val_loss: 0.2902 - val_accuracy: 0.9110\n",
            "Epoch 3/10\n",
            "79/79 [==============================] - 1s 11ms/step - loss: 0.1666 - accuracy: 0.9514 - val_loss: 0.2590 - val_accuracy: 0.9182\n",
            "Epoch 4/10\n",
            "79/79 [==============================] - 1s 11ms/step - loss: 0.1133 - accuracy: 0.9644 - val_loss: 0.1904 - val_accuracy: 0.9384\n",
            "Epoch 5/10\n",
            "79/79 [==============================] - 1s 11ms/step - loss: 0.0846 - accuracy: 0.9760 - val_loss: 0.2001 - val_accuracy: 0.9374\n",
            "Epoch 6/10\n",
            "79/79 [==============================] - 1s 11ms/step - loss: 0.0742 - accuracy: 0.9790 - val_loss: 0.1649 - val_accuracy: 0.9474\n",
            "Epoch 7/10\n",
            "79/79 [==============================] - 1s 11ms/step - loss: 0.0464 - accuracy: 0.9878 - val_loss: 0.1600 - val_accuracy: 0.9510\n",
            "Epoch 8/10\n",
            "79/79 [==============================] - 1s 11ms/step - loss: 0.0447 - accuracy: 0.9874 - val_loss: 0.1574 - val_accuracy: 0.9530\n",
            "Epoch 9/10\n",
            "79/79 [==============================] - 1s 11ms/step - loss: 0.0279 - accuracy: 0.9934 - val_loss: 0.1626 - val_accuracy: 0.9528\n",
            "Epoch 10/10\n",
            "79/79 [==============================] - 1s 10ms/step - loss: 0.0209 - accuracy: 0.9944 - val_loss: 0.1643 - val_accuracy: 0.9544\n",
            "Test loss: 0.16430871188640594\n",
            "Test accuracy: 0.9544000029563904\n"
          ],
          "name": "stdout"
        }
      ]
    },
    {
      "cell_type": "markdown",
      "metadata": {
        "id": "HMXvoBa2xsZe"
      },
      "source": [
        "## 2/ CNN on CIFAR10\n",
        "\n",
        " We create the following network :\n",
        "\n",
        "    - a Convolutional layer of 32 filters of shape (3,3), with stride (1,1) and padding='same'\n",
        "    - a ReLu activation function\n",
        "    \n",
        "    - a Convolutional layer of 32 filters of shape (3,3), with stride (1,1) and padding='same'\n",
        "    - a ReLu activation function\n",
        "    - a Max Pooling Layer of shape (2,2) and stride (2,2) \n",
        "    \n",
        "    - a Convolutional layer of 32 filters of shape (3,3), with stride (1,1) and padding='same'\n",
        "    - a ReLu activation function\n",
        "    - a Max Pooling Layer of shape (2,2) and stride (2,2) \n",
        "    \n",
        "    - We then Flatten the data (reduce them to a vector in order to be able to apply a Fully-Connected layer to it)\n",
        "    - A softmax activation function which outputs are the $P(y_c | X)$ (multi-class problem)\n",
        "\n"
      ]
    },
    {
      "cell_type": "markdown",
      "metadata": {
        "id": "1fnyiIdsoYzS"
      },
      "source": [
        "### Import data"
      ]
    },
    {
      "cell_type": "code",
      "metadata": {
        "id": "ldCeqiu0Vdcg",
        "colab": {
          "base_uri": "https://localhost:8080/"
        },
        "outputId": "a2348610-2ebb-430a-dab5-7823127c2660"
      },
      "source": [
        "from tensorflow.keras.datasets import cifar10\n",
        "(X_train, Y_train_scalar), (X_test, Y_test_scalar) = cifar10.load_data()\n",
        "\n",
        "print(\"Train data shape : \", X_train.shape)\n",
        "print(\"Test data shape : \", X_test.shape)\n",
        "print(\"Number of data categories : \", np.unique(Y_train_scalar))"
      ],
      "execution_count": 8,
      "outputs": [
        {
          "output_type": "stream",
          "text": [
            "Downloading data from https://www.cs.toronto.edu/~kriz/cifar-10-python.tar.gz\n",
            "170500096/170498071 [==============================] - 11s 0us/step\n",
            "Train data shape :  (50000, 32, 32, 3)\n",
            "Test data shape :  (10000, 32, 32, 3)\n",
            "Number of data categories :  [0 1 2 3 4 5 6 7 8 9]\n"
          ],
          "name": "stdout"
        }
      ]
    },
    {
      "cell_type": "markdown",
      "metadata": {
        "id": "FmE6agVqVdcj"
      },
      "source": [
        "The CIFAR-10 dataset has 10 classes. These are the following :"
      ]
    },
    {
      "cell_type": "code",
      "metadata": {
        "id": "DeuLaea5Vdcj"
      },
      "source": [
        "cifar_10_list = [ 'airplane', 'automobile','bird','cat','deer','dog','frog','horse','ship','truck']"
      ],
      "execution_count": 9,
      "outputs": []
    },
    {
      "cell_type": "markdown",
      "metadata": {
        "id": "yF_wRtfNVdcm"
      },
      "source": [
        "### Some of the images"
      ]
    },
    {
      "cell_type": "code",
      "metadata": {
        "id": "WB6nQcjAVdcm",
        "colab": {
          "base_uri": "https://localhost:8080/",
          "height": 338
        },
        "outputId": "45ab89b7-7970-47ba-dafd-da9e985a08b5"
      },
      "source": [
        "plt.figure(figsize=(10, 6))\n",
        "for idx,i in enumerate(range(100,110)):\n",
        "    plt.subplot(2, 5, idx+1)\n",
        "    plt.imshow(X_train[i, :, :, :])\n",
        "    plt.title(cifar_10_list[int(Y_train_scalar[i])])"
      ],
      "execution_count": 10,
      "outputs": [
        {
          "output_type": "display_data",
          "data": {
            "image/png": "[encoded data removed]",
            "text/plain": [
              "<Figure size 720x432 with 10 Axes>"
            ]
          },
          "metadata": {
            "tags": [],
            "needs_background": "light"
          }
        }
      ]
    },
    {
      "cell_type": "markdown",
      "metadata": {
        "id": "JvNQiBcsVdcp"
      },
      "source": [
        "## Format conversion"
      ]
    },
    {
      "cell_type": "code",
      "metadata": {
        "id": "NLf4-_eQVdcq",
        "colab": {
          "base_uri": "https://localhost:8080/"
        },
        "outputId": "e36d378d-afdd-4006-dfff-4c5f0fcfdaf4"
      },
      "source": [
        "# input image dimensions\n",
        "img_rows, img_cols, nb_channels = 32, 32, 3\n",
        "nb_classes = 10\n",
        "\n",
        "# In case depth is 1 (black and white pictures) -> reshape to proper format\n",
        "X_train = X_train.reshape(X_train.shape[0], img_rows, img_cols, nb_channels)\n",
        "X_test = X_test.reshape(X_test.shape[0], img_rows, img_cols, nb_channels)\n",
        "\n",
        "X_train = X_train.astype('float32')\n",
        "X_test = X_test.astype('float32')\n",
        "X_train /= 255\n",
        "X_test /= 255\n",
        "\n",
        "# convert to one-hot encoding\n",
        "Y_train = to_categorical(Y_train_scalar)\n",
        "Y_test = to_categorical(Y_test_scalar)\n",
        "\n",
        "print('X_train shape:', X_train.shape)\n",
        "print('Y_train_scalar shape:', Y_train_scalar.shape)\n",
        "print('Y_train shape (one hot encoding):', Y_train.shape)\n",
        "print('There is {} train data'.format(X_train.shape[0]))\n",
        "print('There is {} test data'.format(X_test.shape[0]))\n",
        "print(img_rows, img_cols, nb_channels)"
      ],
      "execution_count": 11,
      "outputs": [
        {
          "output_type": "stream",
          "text": [
            "X_train shape: (50000, 32, 32, 3)\n",
            "Y_train_scalar shape: (50000, 1)\n",
            "Y_train shape (one hot encoding): (50000, 10)\n",
            "There is 50000 train data\n",
            "There is 10000 test data\n",
            "32 32 3\n"
          ],
          "name": "stdout"
        }
      ]
    },
    {
      "cell_type": "markdown",
      "metadata": {
        "id": "cIJggytbVdcs"
      },
      "source": [
        "For computational reasons, we are going to reduce the amount of training data :"
      ]
    },
    {
      "cell_type": "code",
      "metadata": {
        "id": "ml557ypyVdcs",
        "colab": {
          "base_uri": "https://localhost:8080/"
        },
        "outputId": "c5c8d158-8335-4dfe-a91d-a45fb331fc9a"
      },
      "source": [
        "n_train_samples = 10000\n",
        "X_train = X_train[0:n_train_samples,:,:,:]\n",
        "Y_train = Y_train[0:n_train_samples,:]\n",
        "print(X_train.shape)\n",
        "print(Y_train.shape)"
      ],
      "execution_count": 12,
      "outputs": [
        {
          "output_type": "stream",
          "text": [
            "(10000, 32, 32, 3)\n",
            "(10000, 10)\n"
          ],
          "name": "stdout"
        }
      ]
    },
    {
      "cell_type": "markdown",
      "metadata": {
        "id": "VhYIugXfVdcv"
      },
      "source": [
        "\n",
        "\n",
        "We are now going to create the model described just above, and train it on the previously loaded CIFAR dataset.\n",
        "\n",
        "## We define the parameters of the model, and of the training"
      ]
    },
    {
      "cell_type": "code",
      "metadata": {
        "id": "3CR4DnDfVdcw"
      },
      "source": [
        "\n",
        "learning_rate = 0.01\n",
        "n_epochs = 20\n",
        "batch_size = 64\n",
        "# number of convolutional filters to use\n",
        "nb_filters = 32 \n",
        "\n",
        "# convolution kernel size\n",
        "kernel_size = (3, 3)\n",
        "# size of pooling area for max pooling\n",
        "pool_size = (2, 2)\n",
        "\n",
        "\n",
        "# --- Size of the successice layers\n",
        "n_h_0 = nb_channels\n",
        "n_h_1 = nb_filters\n",
        "n_h_2 = nb_filters\n",
        "n_h_3 = nb_filters\n",
        "\n",
        "input_shape = (img_rows, img_cols, nb_channels)\n"
      ],
      "execution_count": 13,
      "outputs": []
    },
    {
      "cell_type": "markdown",
      "metadata": {
        "id": "xaIkcutSVdcy"
      },
      "source": [
        "Now, we define the model :"
      ]
    },
    {
      "cell_type": "code",
      "metadata": {
        "id": "mVsNB3l-Vdcy"
      },
      "source": [
        "model = Sequential()\n",
        "model.add(Conv2D(nb_filters, kernel_size,padding='same',strides=(1,1) ,input_shape=(32,32,3), name='Conv1'))\n",
        "model.add(Activation('relu'))\n",
        "model.add(Conv2D(nb_filters, kernel_size,padding='same',strides=(1,1),input_shape=(32,32,3), name='Conv2'))\n",
        "model.add(Activation('relu'))\n",
        "model.add(MaxPooling2D(pool_size=pool_size,strides=(2,2)))\n",
        "model.add(Conv2D(nb_filters, kernel_size,padding='same',strides=(1,1),input_shape=(32,32,3), name='Conv3'))\n",
        "model.add(Activation('relu'))\n",
        "model.add(MaxPooling2D(pool_size=pool_size,strides=(2,2)))\n",
        "model.add(Flatten())\n",
        "model.add(Dense(10,activation='softmax'))\n"
      ],
      "execution_count": 14,
      "outputs": []
    },
    {
      "cell_type": "markdown",
      "metadata": {
        "id": "Iq5ZRK_aVdc0"
      },
      "source": [
        "we compile, display and train the model"
      ]
    },
    {
      "cell_type": "code",
      "metadata": {
        "id": "gqdIoVk0Vdc1",
        "colab": {
          "base_uri": "https://localhost:8080/"
        },
        "outputId": "1d2dcf05-6077-4445-f97c-551aadf52163"
      },
      "source": [
        "# compile model\n",
        "model.compile(optimizer='adam',loss='categorical_crossentropy',metrics=['accuracy']) \n",
        "# display model\n",
        "model.summary()\n",
        "# fit model\n",
        "model.fit(X_train, Y_train,batch_size=batch_size,epochs=n_epochs, validation_data=(X_test,Y_test))       \n"
      ],
      "execution_count": 15,
      "outputs": [
        {
          "output_type": "stream",
          "text": [
            "Model: \"sequential_1\"\n",
            "_________________________________________________________________\n",
            "Layer (type)                 Output Shape              Param #   \n",
            "=================================================================\n",
            "Conv1 (Conv2D)               (None, 32, 32, 32)        896       \n",
            "_________________________________________________________________\n",
            "activation_2 (Activation)    (None, 32, 32, 32)        0         \n",
            "_________________________________________________________________\n",
            "Conv2 (Conv2D)               (None, 32, 32, 32)        9248      \n",
            "_________________________________________________________________\n",
            "activation_3 (Activation)    (None, 32, 32, 32)        0         \n",
            "_________________________________________________________________\n",
            "max_pooling2d_1 (MaxPooling2 (None, 16, 16, 32)        0         \n",
            "_________________________________________________________________\n",
            "Conv3 (Conv2D)               (None, 16, 16, 32)        9248      \n",
            "_________________________________________________________________\n",
            "activation_4 (Activation)    (None, 16, 16, 32)        0         \n",
            "_________________________________________________________________\n",
            "max_pooling2d_2 (MaxPooling2 (None, 8, 8, 32)          0         \n",
            "_________________________________________________________________\n",
            "flatten_1 (Flatten)          (None, 2048)              0         \n",
            "_________________________________________________________________\n",
            "dense_1 (Dense)              (None, 10)                20490     \n",
            "=================================================================\n",
            "Total params: 39,882\n",
            "Trainable params: 39,882\n",
            "Non-trainable params: 0\n",
            "_________________________________________________________________\n",
            "Epoch 1/20\n",
            "157/157 [==============================] - 3s 18ms/step - loss: 1.8790 - accuracy: 0.3142 - val_loss: 1.6060 - val_accuracy: 0.4307\n",
            "Epoch 2/20\n",
            "157/157 [==============================] - 2s 14ms/step - loss: 1.4902 - accuracy: 0.4683 - val_loss: 1.3948 - val_accuracy: 0.5033\n",
            "Epoch 3/20\n",
            "157/157 [==============================] - 3s 18ms/step - loss: 1.3226 - accuracy: 0.5281 - val_loss: 1.3758 - val_accuracy: 0.5092\n",
            "Epoch 4/20\n",
            "157/157 [==============================] - 2s 14ms/step - loss: 1.2220 - accuracy: 0.5671 - val_loss: 1.2642 - val_accuracy: 0.5492\n",
            "Epoch 5/20\n",
            "157/157 [==============================] - 2s 14ms/step - loss: 1.1269 - accuracy: 0.5997 - val_loss: 1.2420 - val_accuracy: 0.5710\n",
            "Epoch 6/20\n",
            "157/157 [==============================] - 2s 14ms/step - loss: 1.0428 - accuracy: 0.6373 - val_loss: 1.2446 - val_accuracy: 0.5679\n",
            "Epoch 7/20\n",
            "157/157 [==============================] - 2s 14ms/step - loss: 0.9834 - accuracy: 0.6552 - val_loss: 1.1896 - val_accuracy: 0.5850\n",
            "Epoch 8/20\n",
            "157/157 [==============================] - 3s 18ms/step - loss: 0.9184 - accuracy: 0.6795 - val_loss: 1.1601 - val_accuracy: 0.5967\n",
            "Epoch 9/20\n",
            "157/157 [==============================] - 2s 14ms/step - loss: 0.8610 - accuracy: 0.6966 - val_loss: 1.2293 - val_accuracy: 0.5848\n",
            "Epoch 10/20\n",
            "157/157 [==============================] - 2s 14ms/step - loss: 0.8045 - accuracy: 0.7228 - val_loss: 1.1475 - val_accuracy: 0.6096\n",
            "Epoch 11/20\n",
            "157/157 [==============================] - 2s 14ms/step - loss: 0.7606 - accuracy: 0.7330 - val_loss: 1.2019 - val_accuracy: 0.5986\n",
            "Epoch 12/20\n",
            "157/157 [==============================] - 2s 14ms/step - loss: 0.7246 - accuracy: 0.7476 - val_loss: 1.2346 - val_accuracy: 0.6044\n",
            "Epoch 13/20\n",
            "157/157 [==============================] - 3s 18ms/step - loss: 0.6708 - accuracy: 0.7649 - val_loss: 1.2080 - val_accuracy: 0.6116\n",
            "Epoch 14/20\n",
            "157/157 [==============================] - 2s 14ms/step - loss: 0.6288 - accuracy: 0.7816 - val_loss: 1.2382 - val_accuracy: 0.6031\n",
            "Epoch 15/20\n",
            "157/157 [==============================] - 2s 14ms/step - loss: 0.5836 - accuracy: 0.7929 - val_loss: 1.4390 - val_accuracy: 0.5707\n",
            "Epoch 16/20\n",
            "157/157 [==============================] - 2s 14ms/step - loss: 0.5509 - accuracy: 0.8068 - val_loss: 1.3500 - val_accuracy: 0.5922\n",
            "Epoch 17/20\n",
            "157/157 [==============================] - 3s 18ms/step - loss: 0.5089 - accuracy: 0.8234 - val_loss: 1.3138 - val_accuracy: 0.6080\n",
            "Epoch 18/20\n",
            "157/157 [==============================] - 2s 14ms/step - loss: 0.4741 - accuracy: 0.8388 - val_loss: 1.4115 - val_accuracy: 0.6012\n",
            "Epoch 19/20\n",
            "157/157 [==============================] - 2s 14ms/step - loss: 0.4362 - accuracy: 0.8453 - val_loss: 1.5324 - val_accuracy: 0.5900\n",
            "Epoch 20/20\n",
            "157/157 [==============================] - 2s 14ms/step - loss: 0.4042 - accuracy: 0.8613 - val_loss: 1.5139 - val_accuracy: 0.6021\n"
          ],
          "name": "stdout"
        },
        {
          "output_type": "execute_result",
          "data": {
            "text/plain": [
              "<tensorflow.python.keras.callbacks.History at 0x7fa8b85d0110>"
            ]
          },
          "metadata": {
            "tags": []
          },
          "execution_count": 15
        }
      ]
    },
    {
      "cell_type": "markdown",
      "metadata": {
        "id": "26RA5S8nVdc-"
      },
      "source": [
        "We evaluate the performances of the model on the test data\n",
        "\n",
        "\n"
      ]
    },
    {
      "cell_type": "code",
      "metadata": {
        "id": "3K40PBXAVdc_",
        "colab": {
          "base_uri": "https://localhost:8080/"
        },
        "outputId": "46b8488b-ff18-4fd1-dc2c-c486aae30356"
      },
      "source": [
        "score = model.evaluate(X_test, Y_test, verbose=False)\n",
        "print('Test loss:', score[0])\n",
        "print('Test accuracy:', score[1])"
      ],
      "execution_count": 16,
      "outputs": [
        {
          "output_type": "stream",
          "text": [
            "Test loss: 1.5139050483703613\n",
            "Test accuracy: 0.6021000146865845\n"
          ],
          "name": "stdout"
        }
      ]
    },
    {
      "cell_type": "markdown",
      "metadata": {
        "id": "VrDkWLFhVddB"
      },
      "source": [
        "### The network's results\n",
        "\n",
        "Let's take a look at what the network has learned."
      ]
    },
    {
      "cell_type": "code",
      "metadata": {
        "id": "GD3n19mPVddB",
        "colab": {
          "base_uri": "https://localhost:8080/",
          "height": 338
        },
        "outputId": "f8b25587-0d2b-4444-d4be-1b882f469ab4"
      },
      "source": [
        "plt.figure(figsize=(10, 6))\n",
        "for idx,i in enumerate(range(100,110)):\n",
        "    plt.subplot(2, 5, idx+1)\n",
        "    rand_ind = np.random.randint(0,X_test.shape[0])\n",
        "    predicted_class =np.argmax(model.predict(np.expand_dims(X_test[rand_ind],0) ,batch_size=batch_size))# FILL IN CODE\n",
        "    plt.imshow(X_test[rand_ind,:,:,:])\n",
        "    plt.title(cifar_10_list[int(predicted_class)])"
      ],
      "execution_count": 18,
      "outputs": [
        {
          "output_type": "display_data",
          "data": {
            "image/png": "[encoded data removed]",
            "text/plain": [
              "<Figure size 720x432 with 10 Axes>"
            ]
          },
          "metadata": {
            "tags": [],
            "needs_background": "light"
          }
        }
      ]
    }
  ]
}